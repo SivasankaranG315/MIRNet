{
  "nbformat": 4,
  "nbformat_minor": 0,
  "metadata": {
    "colab": {
      "name": "MIRNet-Low-Light-Train.ipynb",
      "provenance": [],
      "collapsed_sections": [],
      "authorship_tag": "ABX9TyPgPSBdNYjIfe6SYRJjS3Ux",
      "include_colab_link": true
    },
    "kernelspec": {
      "name": "python3",
      "display_name": "Python 3"
    },
    "accelerator": "GPU"
  },
  "cells": [
    {
      "cell_type": "markdown",
      "metadata": {
        "id": "view-in-github",
        "colab_type": "text"
      },
      "source": [
        "<a href=\"https://colab.research.google.com/github/soumik12345/MIRNet/blob/master/notebooks/MIRNet_Low_Light_Train.ipynb\" target=\"_parent\"><img src=\"https://colab.research.google.com/assets/colab-badge.svg\" alt=\"Open In Colab\"/></a>"
      ]
    },
    {
      "cell_type": "code",
      "metadata": {
        "colab": {
          "base_uri": "https://localhost:8080/"
        },
        "id": "u6SxYHy-0tAX",
        "outputId": "6d645605-6f3c-4753-a791-6e78a9c23eff"
      },
      "source": [
        "!nvidia-smi"
      ],
      "execution_count": 1,
      "outputs": [
        {
          "output_type": "stream",
          "text": [
            "Tue Dec  1 04:29:09 2020       \n",
            "+-----------------------------------------------------------------------------+\n",
            "| NVIDIA-SMI 455.38       Driver Version: 418.67       CUDA Version: 10.1     |\n",
            "|-------------------------------+----------------------+----------------------+\n",
            "| GPU  Name        Persistence-M| Bus-Id        Disp.A | Volatile Uncorr. ECC |\n",
            "| Fan  Temp  Perf  Pwr:Usage/Cap|         Memory-Usage | GPU-Util  Compute M. |\n",
            "|                               |                      |               MIG M. |\n",
            "|===============================+======================+======================|\n",
            "|   0  Tesla P100-PCIE...  Off  | 00000000:00:04.0 Off |                    0 |\n",
            "| N/A   34C    P0    25W / 250W |      0MiB / 16280MiB |      0%      Default |\n",
            "|                               |                      |                 ERR! |\n",
            "+-------------------------------+----------------------+----------------------+\n",
            "                                                                               \n",
            "+-----------------------------------------------------------------------------+\n",
            "| Processes:                                                                  |\n",
            "|  GPU   GI   CI        PID   Type   Process name                  GPU Memory |\n",
            "|        ID   ID                                                   Usage      |\n",
            "|=============================================================================|\n",
            "|  No running processes found                                                 |\n",
            "+-----------------------------------------------------------------------------+\n"
          ],
          "name": "stdout"
        }
      ]
    },
    {
      "cell_type": "code",
      "metadata": {
        "colab": {
          "base_uri": "https://localhost:8080/"
        },
        "id": "H42UtLtD3QMh",
        "outputId": "c4a285ad-97bb-420a-aa71-76debe75459e"
      },
      "source": [
        "!git clone https://github.com/soumik12345/MIRNet\n",
        "%cd MIRNet"
      ],
      "execution_count": 2,
      "outputs": [
        {
          "output_type": "stream",
          "text": [
            "Cloning into 'MIRNet'...\n",
            "remote: Enumerating objects: 82, done.\u001b[K\n",
            "remote: Counting objects: 100% (82/82), done.\u001b[K\n",
            "remote: Compressing objects: 100% (57/57), done.\u001b[K\n",
            "remote: Total 82 (delta 30), reused 68 (delta 16), pack-reused 0\u001b[K\n",
            "Unpacking objects: 100% (82/82), done.\n",
            "/content/MIRNet\n"
          ],
          "name": "stdout"
        }
      ]
    },
    {
      "cell_type": "code",
      "metadata": {
        "colab": {
          "base_uri": "https://localhost:8080/"
        },
        "id": "GMhYQqQ_6Qh5",
        "outputId": "0e418b44-7377-44fe-98dc-b9586270b517"
      },
      "source": [
        "!pip install -qq wandb"
      ],
      "execution_count": 3,
      "outputs": [
        {
          "output_type": "stream",
          "text": [
            "\u001b[K     |████████████████████████████████| 1.8MB 5.6MB/s \n",
            "\u001b[K     |████████████████████████████████| 163kB 31.2MB/s \n",
            "\u001b[K     |████████████████████████████████| 133kB 37.5MB/s \n",
            "\u001b[K     |████████████████████████████████| 102kB 12.7MB/s \n",
            "\u001b[K     |████████████████████████████████| 102kB 11.5MB/s \n",
            "\u001b[K     |████████████████████████████████| 71kB 10.0MB/s \n",
            "\u001b[?25h  Building wheel for subprocess32 (setup.py) ... \u001b[?25l\u001b[?25hdone\n",
            "  Building wheel for watchdog (setup.py) ... \u001b[?25l\u001b[?25hdone\n",
            "  Building wheel for pathtools (setup.py) ... \u001b[?25l\u001b[?25hdone\n"
          ],
          "name": "stdout"
        }
      ]
    },
    {
      "cell_type": "code",
      "metadata": {
        "id": "hAXrPnAx-seN"
      },
      "source": [
        "from glob import glob\n",
        "from mirnet.train import LowLightTrainer\n",
        "from mirnet.utils import init_wandb, download_dataset"
      ],
      "execution_count": 4,
      "outputs": []
    },
    {
      "cell_type": "code",
      "metadata": {
        "colab": {
          "base_uri": "https://localhost:8080/"
        },
        "id": "fT7Fr8Tq_bqn",
        "outputId": "d27ed971-a97a-4d4c-d151-acb971003b53"
      },
      "source": [
        "download_dataset('LOL')"
      ],
      "execution_count": 5,
      "outputs": [
        {
          "output_type": "stream",
          "text": [
            "Downloading dataset...\n"
          ],
          "name": "stdout"
        },
        {
          "output_type": "stream",
          "text": [
            "Downloading...\n",
            "From: https://drive.google.com/uc?id=157bjO1_cFuSd0HWDUuAmcHRJDVyWpOxB\n",
            "To: /content/MIRNet/LOLdataset.zip\n",
            "347MB [00:02, 152MB/s]\n"
          ],
          "name": "stderr"
        },
        {
          "output_type": "stream",
          "text": [
            "Unpacking Dataset\n",
            "Done!!!\n"
          ],
          "name": "stdout"
        }
      ]
    },
    {
      "cell_type": "code",
      "metadata": {
        "colab": {
          "base_uri": "https://localhost:8080/",
          "height": 136
        },
        "id": "0lO57o2W_sqq",
        "outputId": "af179597-f6c2-4750-e774-64b4f9232043"
      },
      "source": [
        "init_wandb(\n",
        "    project_name='mirnet', experiment_name='LOL_lowlight',\n",
        "    wandb_api_key='cf0947ccde62903d4df0742a58b8a54ca4c11673'\n",
        ")"
      ],
      "execution_count": 6,
      "outputs": [
        {
          "output_type": "stream",
          "text": [
            "\u001b[34m\u001b[1mwandb\u001b[0m: Currently logged in as: \u001b[33m19soumik-rakshit96\u001b[0m (use `wandb login --relogin` to force relogin)\n"
          ],
          "name": "stderr"
        },
        {
          "output_type": "display_data",
          "data": {
            "text/html": [
              "\n",
              "                Tracking run with wandb version 0.10.11<br/>\n",
              "                Syncing run <strong style=\"color:#cdcd00\">LOL_lowlight</strong> to <a href=\"https://wandb.ai\" target=\"_blank\">Weights & Biases</a> <a href=\"https://docs.wandb.com/integrations/jupyter.html\" target=\"_blank\">(Documentation)</a>.<br/>\n",
              "                Project page: <a href=\"https://wandb.ai/19soumik-rakshit96/mirnet\" target=\"_blank\">https://wandb.ai/19soumik-rakshit96/mirnet</a><br/>\n",
              "                Run page: <a href=\"https://wandb.ai/19soumik-rakshit96/mirnet/runs/15yhcbqd\" target=\"_blank\">https://wandb.ai/19soumik-rakshit96/mirnet/runs/15yhcbqd</a><br/>\n",
              "                Run data is saved locally in <code>/content/MIRNet/wandb/run-20201201_042953-15yhcbqd</code><br/><br/>\n",
              "            "
            ],
            "text/plain": [
              "<IPython.core.display.HTML object>"
            ]
          },
          "metadata": {
            "tags": []
          }
        }
      ]
    },
    {
      "cell_type": "code",
      "metadata": {
        "id": "Kiom1ZjH8eKi"
      },
      "source": [
        "trainer = LowLightTrainer()\n",
        "train_low_light_images = glob('./our485/low/*')\n",
        "train_high_light_images = glob('./our485/high/*')\n",
        "valid_low_light_images = glob('./eval15/low/*')\n",
        "valid_high_light_images = glob('./eval15/high/*')"
      ],
      "execution_count": 7,
      "outputs": []
    },
    {
      "cell_type": "code",
      "metadata": {
        "id": "Kz0i4QoQ8qw1"
      },
      "source": [
        "trainer.build_dataset(\n",
        "    train_low_light_images, train_high_light_images,\n",
        "    valid_low_light_images, valid_high_light_images,\n",
        "    crop_size=128, batch_size=8\n",
        ")\n",
        "trainer.compile()"
      ],
      "execution_count": 8,
      "outputs": []
    },
    {
      "cell_type": "code",
      "metadata": {
        "colab": {
          "base_uri": "https://localhost:8080/"
        },
        "id": "zeCmSZqI9GBU",
        "outputId": "cb72eaf1-6a62-4f49-cc3d-6813388db130"
      },
      "source": [
        "trainer.train(epochs=100, checkpoint_dir='./checkpoints')"
      ],
      "execution_count": 9,
      "outputs": [
        {
          "output_type": "stream",
          "text": [
            "WARNING:tensorflow:`epsilon` argument is deprecated and will be removed, use `min_delta` instead.\n",
            "WARNING:tensorflow:`period` argument is deprecated. Please use `save_freq` to specify the frequency in number of batches seen.\n",
            "Epoch 1/100\n",
            "61/61 [==============================] - 72s 1s/step - loss: 0.1865 - psnr: 63.0127 - val_loss: 0.1464 - val_psnr: 64.4078\n",
            "Epoch 2/100\n",
            "61/61 [==============================] - 66s 1s/step - loss: 0.1589 - psnr: 64.2032 - val_loss: 0.1296 - val_psnr: 64.9630\n",
            "Epoch 3/100\n",
            "61/61 [==============================] - 60s 990ms/step - loss: 0.1421 - psnr: 64.9980 - val_loss: 0.1433 - val_psnr: 64.5497\n",
            "Epoch 4/100\n",
            "61/61 [==============================] - 66s 1s/step - loss: 0.1403 - psnr: 65.0732 - val_loss: 0.1231 - val_psnr: 65.6756\n",
            "Epoch 5/100\n",
            "61/61 [==============================] - 61s 1s/step - loss: 0.1400 - psnr: 65.2334 - val_loss: 0.1826 - val_psnr: 63.0306\n",
            "Epoch 6/100\n",
            "61/61 [==============================] - 61s 995ms/step - loss: 0.1348 - psnr: 65.6828 - val_loss: 0.1289 - val_psnr: 65.7155\n",
            "Epoch 7/100\n",
            "61/61 [==============================] - 60s 991ms/step - loss: 0.1313 - psnr: 65.9563 - val_loss: 0.1310 - val_psnr: 66.0298\n",
            "Epoch 8/100\n",
            "61/61 [==============================] - 59s 970ms/step - loss: 0.1302 - psnr: 65.9650 - val_loss: 0.1270 - val_psnr: 65.3209\n",
            "Epoch 9/100\n",
            "61/61 [==============================] - 59s 970ms/step - loss: 0.1257 - psnr: 66.2566 - val_loss: 0.1298 - val_psnr: 65.4388\n",
            "Epoch 10/100\n",
            "61/61 [==============================] - 59s 973ms/step - loss: 0.1187 - psnr: 66.6721 - val_loss: 0.1415 - val_psnr: 65.2189\n",
            "Epoch 11/100\n",
            "61/61 [==============================] - 66s 1s/step - loss: 0.1208 - psnr: 66.6375 - val_loss: 0.1207 - val_psnr: 66.2254\n",
            "Epoch 12/100\n",
            "61/61 [==============================] - 66s 1s/step - loss: 0.1164 - psnr: 66.9809 - val_loss: 0.1168 - val_psnr: 66.0884\n",
            "Epoch 13/100\n",
            "61/61 [==============================] - 60s 982ms/step - loss: 0.1154 - psnr: 67.0674 - val_loss: 0.1606 - val_psnr: 63.6823\n",
            "Epoch 14/100\n",
            "61/61 [==============================] - 59s 971ms/step - loss: 0.1150 - psnr: 67.0392 - val_loss: 0.1182 - val_psnr: 66.1790\n",
            "Epoch 15/100\n",
            "61/61 [==============================] - 66s 1s/step - loss: 0.1127 - psnr: 67.3187 - val_loss: 0.1028 - val_psnr: 67.8671\n",
            "Epoch 16/100\n",
            "61/61 [==============================] - 65s 1s/step - loss: 0.1154 - psnr: 67.1544 - val_loss: 0.0989 - val_psnr: 67.2760\n",
            "Epoch 17/100\n",
            "61/61 [==============================] - 60s 983ms/step - loss: 0.1131 - psnr: 67.2603 - val_loss: 0.1068 - val_psnr: 67.7376\n",
            "Epoch 18/100\n",
            "61/61 [==============================] - 59s 968ms/step - loss: 0.1098 - psnr: 67.5122 - val_loss: 0.1196 - val_psnr: 66.3101\n",
            "Epoch 19/100\n",
            "61/61 [==============================] - 59s 969ms/step - loss: 0.1083 - psnr: 67.3989 - val_loss: 0.1301 - val_psnr: 65.7950\n",
            "Epoch 20/100\n",
            "61/61 [==============================] - ETA: 0s - loss: 0.1113 - psnr: 67.3793\n",
            "Epoch 00020: ReduceLROnPlateau reducing learning rate to 4.999999873689376e-05.\n",
            "61/61 [==============================] - 59s 968ms/step - loss: 0.1113 - psnr: 67.3793 - val_loss: 0.1140 - val_psnr: 67.4375\n",
            "Epoch 21/100\n",
            "61/61 [==============================] - 60s 992ms/step - loss: 0.1108 - psnr: 67.4150 - val_loss: 0.1017 - val_psnr: 68.6887\n",
            "Epoch 22/100\n",
            "61/61 [==============================] - 59s 969ms/step - loss: 0.1094 - psnr: 67.6137 - val_loss: 0.1250 - val_psnr: 66.4710\n",
            "Epoch 23/100\n",
            "61/61 [==============================] - 64s 1s/step - loss: 0.1104 - psnr: 67.5196 - val_loss: 0.0908 - val_psnr: 68.6676\n",
            "Epoch 24/100\n",
            "61/61 [==============================] - 60s 985ms/step - loss: 0.1070 - psnr: 67.6459 - val_loss: 0.1081 - val_psnr: 67.0181\n",
            "Epoch 25/100\n",
            "61/61 [==============================] - 59s 968ms/step - loss: 0.1082 - psnr: 67.6077 - val_loss: 0.1066 - val_psnr: 67.7473\n",
            "Epoch 26/100\n",
            "61/61 [==============================] - ETA: 0s - loss: 0.1059 - psnr: 67.6819\n",
            "Epoch 00026: ReduceLROnPlateau reducing learning rate to 2.499999936844688e-05.\n",
            "61/61 [==============================] - 59s 969ms/step - loss: 0.1059 - psnr: 67.6819 - val_loss: 0.0978 - val_psnr: 67.7613\n",
            "Epoch 27/100\n",
            "61/61 [==============================] - 59s 969ms/step - loss: 0.1066 - psnr: 67.6778 - val_loss: 0.0933 - val_psnr: 68.6162\n",
            "Epoch 28/100\n",
            "61/61 [==============================] - 59s 969ms/step - loss: 0.1049 - psnr: 67.9150 - val_loss: 0.1091 - val_psnr: 66.9717\n",
            "Epoch 29/100\n",
            "61/61 [==============================] - 59s 968ms/step - loss: 0.1047 - psnr: 67.9508 - val_loss: 0.1028 - val_psnr: 67.5695\n",
            "Epoch 30/100\n",
            "61/61 [==============================] - 59s 967ms/step - loss: 0.0996 - psnr: 68.2602 - val_loss: 0.1243 - val_psnr: 66.7872\n",
            "Epoch 31/100\n",
            "61/61 [==============================] - ETA: 0s - loss: 0.1053 - psnr: 67.8537\n",
            "Epoch 00031: ReduceLROnPlateau reducing learning rate to 1.249999968422344e-05.\n",
            "61/61 [==============================] - 59s 968ms/step - loss: 0.1053 - psnr: 67.8537 - val_loss: 0.1072 - val_psnr: 67.3366\n"
          ],
          "name": "stdout"
        },
        {
          "output_type": "execute_result",
          "data": {
            "text/plain": [
              "<tensorflow.python.keras.callbacks.History at 0x7f350a49eda0>"
            ]
          },
          "metadata": {
            "tags": []
          },
          "execution_count": 9
        }
      ]
    },
    {
      "cell_type": "code",
      "metadata": {
        "colab": {
          "base_uri": "https://localhost:8080/",
          "height": 17
        },
        "id": "dGkCwyM2_odJ",
        "outputId": "f7064dc6-baa0-4880-edc7-9ffb738f3947"
      },
      "source": [
        "from glob import glob\n",
        "from google.colab import files\n",
        "\n",
        "\n",
        "for file in glob('/content/MIRNet/checkpoints/*'):\n",
        "    files.download(file)"
      ],
      "execution_count": 10,
      "outputs": [
        {
          "output_type": "display_data",
          "data": {
            "application/javascript": [
              "\n",
              "    async function download(id, filename, size) {\n",
              "      if (!google.colab.kernel.accessAllowed) {\n",
              "        return;\n",
              "      }\n",
              "      const div = document.createElement('div');\n",
              "      const label = document.createElement('label');\n",
              "      label.textContent = `Downloading \"${filename}\": `;\n",
              "      div.appendChild(label);\n",
              "      const progress = document.createElement('progress');\n",
              "      progress.max = size;\n",
              "      div.appendChild(progress);\n",
              "      document.body.appendChild(div);\n",
              "\n",
              "      const buffers = [];\n",
              "      let downloaded = 0;\n",
              "\n",
              "      const channel = await google.colab.kernel.comms.open(id);\n",
              "      // Send a message to notify the kernel that we're ready.\n",
              "      channel.send({})\n",
              "\n",
              "      for await (const message of channel.messages) {\n",
              "        // Send a message to notify the kernel that we're ready.\n",
              "        channel.send({})\n",
              "        if (message.buffers) {\n",
              "          for (const buffer of message.buffers) {\n",
              "            buffers.push(buffer);\n",
              "            downloaded += buffer.byteLength;\n",
              "            progress.value = downloaded;\n",
              "          }\n",
              "        }\n",
              "      }\n",
              "      const blob = new Blob(buffers, {type: 'application/binary'});\n",
              "      const a = document.createElement('a');\n",
              "      a.href = window.URL.createObjectURL(blob);\n",
              "      a.download = filename;\n",
              "      div.appendChild(a);\n",
              "      a.click();\n",
              "      div.remove();\n",
              "    }\n",
              "  "
            ],
            "text/plain": [
              "<IPython.core.display.Javascript object>"
            ]
          },
          "metadata": {
            "tags": []
          }
        },
        {
          "output_type": "display_data",
          "data": {
            "application/javascript": [
              "download(\"download_2524c337-4b02-4b33-bdf0-b6f94e053d85\", \"low_light_weights_best.h5\", 147825648)"
            ],
            "text/plain": [
              "<IPython.core.display.Javascript object>"
            ]
          },
          "metadata": {
            "tags": []
          }
        }
      ]
    },
    {
      "cell_type": "code",
      "metadata": {
        "id": "2-Egvhj9xF3F"
      },
      "source": [
        ""
      ],
      "execution_count": null,
      "outputs": []
    }
  ]
}